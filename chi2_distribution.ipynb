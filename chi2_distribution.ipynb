{
 "cells": [
  {
   "cell_type": "code",
   "execution_count": 40,
   "metadata": {},
   "outputs": [],
   "source": [
    "import numpy as np\n",
    "import scipy.stats as stats\n",
    "import matplotlib.pyplot as plt\n",
    "%matplotlib inline"
   ]
  },
  {
   "cell_type": "code",
   "execution_count": 46,
   "metadata": {},
   "outputs": [],
   "source": [
    "def chi_square_dist(exp, act):\n",
    "    expected = np.array(exp)\n",
    "    actual = np.array(act)\n",
    "    return np.sum(((expected - actual)**2)/expected)\n",
    "    \n",
    "\n",
    "def generate_chi2_value():\n",
    "    count = 10_000\n",
    "\n",
    "    expected_dist = count/2, count/2\n",
    "    actual_dist = [0, 0]\n",
    "    for i in range(count):\n",
    "        rand = np.random.rand()\n",
    "        actual_dist[0] += int(rand < 0.5)\n",
    "        actual_dist[1] += int(rand > 0.5)\n",
    "\n",
    "    return chi_square_dist(expected_dist, actual_dist)"
   ]
  },
  {
   "cell_type": "code",
   "execution_count": null,
   "metadata": {},
   "outputs": [],
   "source": [
    "chi_square = []\n",
    "for i in range(10_000):\n",
    "    chi_square.append(generate_chi2_value())"
   ]
  },
  {
   "cell_type": "code",
   "execution_count": 42,
   "metadata": {},
   "outputs": [
    {
     "data": {
      "image/png": "[encoded data removed]",
      "text/plain": [
       "<matplotlib.figure.Figure at 0x7f3d83e4f9e8>"
      ]
     },
     "metadata": {},
     "output_type": "display_data"
    },
    {
     "data": {
      "text/plain": [
       "KstestResult(statistic=0.60653176518609597, pvalue=0.0)"
      ]
     },
     "execution_count": 42,
     "metadata": {},
     "output_type": "execute_result"
    }
   ],
   "source": [
    "plt.hist(chi_square, bins=50, density=True)\n",
    "plt.show()\n",
    "stats.kstest(chi_square, \"chi2\", args=(2,))"
   ]
  }
 ],
 "metadata": {
  "kernelspec": {
   "display_name": "Python 3",
   "language": "python",
   "name": "python3"
  },
  "language_info": {
   "codemirror_mode": {
    "name": "ipython",
    "version": 3
   },
   "file_extension": ".py",
   "mimetype": "text/x-python",
   "name": "python",
   "nbconvert_exporter": "python",
   "pygments_lexer": "ipython3",
   "version": "3.6.4"
  }
 },
 "nbformat": 4,
 "nbformat_minor": 2
}
