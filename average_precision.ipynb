{
 "cells": [
  {
   "cell_type": "markdown",
   "metadata": {},
   "source": [
    "# Try to understand Average Precision"
   ]
  },
  {
   "cell_type": "code",
   "execution_count": 1,
   "metadata": {},
   "outputs": [],
   "source": [
    "from sklearn.metrics import precision_score\n",
    "from sklearn.metrics import recall_score, average_precision_score\n",
    "import numpy as np"
   ]
  },
  {
   "cell_type": "code",
   "execution_count": 2,
   "metadata": {},
   "outputs": [],
   "source": [
    "actual = [1,0,1,1,1,1,1,0,1,0,1,0,0,1,0,0,0,0,0,1]\n",
    "predicted = [1,1,1,1,1,1,1,1,1,1,1,1,1,1,1,1,1,1,1,1]"
   ]
  },
  {
   "cell_type": "code",
   "execution_count": 3,
   "metadata": {},
   "outputs": [],
   "source": [
    "def recalls_at_k(actual, predicted):\n",
    "    recalls = []\n",
    "\n",
    "    def pr_for_rec(predicted, k):\n",
    "        return predicted[:k] + np.zeros(len(predicted) - k).tolist()\n",
    "\n",
    "    for k in range(1, len(actual) + 1):\n",
    "        k_actual = actual[:k]\n",
    "        k_predicted = pr_for_rec(predicted, k)\n",
    "        recalls.append(\n",
    "            recall_score(actual, k_predicted)\n",
    "        )\n",
    "    return recalls"
   ]
  },
  {
   "cell_type": "code",
   "execution_count": 4,
   "metadata": {},
   "outputs": [],
   "source": [
    "def avg_precision(actual, predicted):\n",
    "    precision_at_k = [precision_score(actual[:k], predicted[:k]) for k in range(1,len(actual)+1)]\n",
    "    recall_at_k = recalls_at_k(actual, predicted)\n",
    "    \n",
    "    relevant_precisions = []\n",
    "    for i in range(len(precision_at_k)):\n",
    "        if i==0:\n",
    "            prev_recall = 0\n",
    "        else:\n",
    "            prev_recall = recall_at_k[i-1]\n",
    "        curr_recall = recall_at_k[i]\n",
    "        delta_recall = abs(prev_recall - curr_recall)\n",
    "        \n",
    "        if(delta_recall > 0):\n",
    "            relevant_precisions.append(precision_at_k[i])\n",
    "    return np.mean(relevant_precisions)\n"
   ]
  },
  {
   "cell_type": "code",
   "execution_count": 5,
   "metadata": {},
   "outputs": [],
   "source": [
    "def avg_precision_multiple(actual, predicted):\n",
    "    precision_at_k = [precision_score(actual[:k], predicted[:k]) for k in range(1,len(actual)+1)]\n",
    "    recall_at_k = recalls_at_k(actual, predicted)\n",
    "    \n",
    "    relevant_precisions = []\n",
    "    for i in range(len(precision_at_k)):\n",
    "        if i==0:\n",
    "            prev_recall = 0\n",
    "        else:\n",
    "            prev_recall = recall_at_k[i-1]\n",
    "            \n",
    "        curr_recall = recall_at_k[i]\n",
    "        delta_recall = abs(prev_recall - curr_recall)\n",
    "        \n",
    "        relevant_precisions.append(precision_at_k[i]*delta_recall)\n",
    "    \n",
    "    return np.sum(relevant_precisions)"
   ]
  },
  {
   "cell_type": "code",
   "execution_count": 6,
   "metadata": {},
   "outputs": [],
   "source": [
    "def average_precision(actual, predicted):\n",
    "    precisions = []\n",
    "    for k in range(len(actual)):\n",
    "        if actual[k] > 0:\n",
    "            score = precision_score(actual[:k+1], predicted[:k+1])\n",
    "            precisions.append(score)\n",
    "            \n",
    "    return np.mean(precisions)"
   ]
  },
  {
   "cell_type": "code",
   "execution_count": 7,
   "metadata": {},
   "outputs": [],
   "source": [
    "def apk(actual, predicted, k=10):\n",
    "    if len(predicted)>k:\n",
    "        predicted = predicted[:k]\n",
    "\n",
    "    score = 0.0\n",
    "    num_hits = 0.0\n",
    "\n",
    "    for i,p in enumerate(predicted):\n",
    "        if p in actual and p not in predicted[:i]:\n",
    "            num_hits += 1.0\n",
    "            score += num_hits / (i+1.0)\n",
    "\n",
    "    if not actual:\n",
    "        return 0.0\n",
    "\n",
    "    return score / min(len(actual), k)"
   ]
  },
  {
   "cell_type": "markdown",
   "metadata": {},
   "source": [
    "Implementation from https://github.com/benhamner/Metrics/"
   ]
  },
  {
   "cell_type": "code",
   "execution_count": 8,
   "metadata": {},
   "outputs": [
    {
     "data": {
      "text/plain": [
       "0.05"
      ]
     },
     "execution_count": 8,
     "metadata": {},
     "output_type": "execute_result"
    }
   ],
   "source": [
    "apk(actual, predicted, k=len(actual))"
   ]
  },
  {
   "cell_type": "markdown",
   "metadata": {},
   "source": [
    "My implementations"
   ]
  },
  {
   "cell_type": "code",
   "execution_count": 9,
   "metadata": {},
   "outputs": [
    {
     "data": {
      "text/plain": [
       "0.75550505050505057"
      ]
     },
     "execution_count": 9,
     "metadata": {},
     "output_type": "execute_result"
    }
   ],
   "source": [
    "average_precision(actual, predicted)"
   ]
  },
  {
   "cell_type": "code",
   "execution_count": 10,
   "metadata": {},
   "outputs": [
    {
     "data": {
      "text/plain": [
       "0.75550505050505046"
      ]
     },
     "execution_count": 10,
     "metadata": {},
     "output_type": "execute_result"
    }
   ],
   "source": [
    "avg_precision_multiple(actual, predicted)"
   ]
  },
  {
   "cell_type": "code",
   "execution_count": 11,
   "metadata": {},
   "outputs": [
    {
     "data": {
      "text/plain": [
       "0.75550505050505057"
      ]
     },
     "execution_count": 11,
     "metadata": {},
     "output_type": "execute_result"
    }
   ],
   "source": [
    "avg_precision(actual, predicted)"
   ]
  },
  {
   "cell_type": "markdown",
   "metadata": {},
   "source": [
    "Implementation from sklearn"
   ]
  },
  {
   "cell_type": "code",
   "execution_count": 12,
   "metadata": {},
   "outputs": [
    {
     "data": {
      "text/plain": [
       "0.5"
      ]
     },
     "execution_count": 12,
     "metadata": {},
     "output_type": "execute_result"
    }
   ],
   "source": [
    "average_precision_score(actual, predicted)"
   ]
  },
  {
   "cell_type": "markdown",
   "metadata": {},
   "source": [
    "### Try to plot PR curve"
   ]
  },
  {
   "cell_type": "markdown",
   "metadata": {},
   "source": [
    "Plot PR curve by myself"
   ]
  },
  {
   "cell_type": "code",
   "execution_count": 13,
   "metadata": {},
   "outputs": [
    {
     "data": {
      "text/plain": [
       "[<matplotlib.lines.Line2D at 0x7f49c3dc6278>]"
      ]
     },
     "execution_count": 13,
     "metadata": {},
     "output_type": "execute_result"
    },
    {
     "data": {
      "image/png": "[encoded data removed]",
      "text/plain": [
       "<matplotlib.figure.Figure at 0x7f49ffb29d68>"
      ]
     },
     "metadata": {},
     "output_type": "display_data"
    }
   ],
   "source": [
    "import matplotlib.pyplot as plt\n",
    "%matplotlib inline\n",
    "\n",
    "precision_at_k = [precision_score(actual[:k], predicted[:k]) for k in range(1,len(actual)+1)]\n",
    "recall_at_k = recalls_at_k(actual, predicted)\n",
    "\n",
    "plt.plot(precision_at_k, recall_at_k)"
   ]
  },
  {
   "cell_type": "markdown",
   "metadata": {},
   "source": [
    "Using sklearn"
   ]
  },
  {
   "cell_type": "code",
   "execution_count": 14,
   "metadata": {},
   "outputs": [
    {
     "data": {
      "text/plain": [
       "[<matplotlib.lines.Line2D at 0x7f49c3cccf28>]"
      ]
     },
     "execution_count": 14,
     "metadata": {},
     "output_type": "execute_result"
    },
    {
     "data": {
      "image/png": "[encoded data removed]",
      "text/plain": [
       "<matplotlib.figure.Figure at 0x7f49ce8bbb70>"
      ]
     },
     "metadata": {},
     "output_type": "display_data"
    }
   ],
   "source": [
    "from sklearn.metrics import precision_recall_curve\n",
    "\n",
    "precision, recall, thresholds = precision_recall_curve(actual, predicted)\n",
    "plt.plot(precision, recall)"
   ]
  }
 ],
 "metadata": {
  "kernelspec": {
   "display_name": "Python 3",
   "language": "python",
   "name": "python3"
  },
  "language_info": {
   "codemirror_mode": {
    "name": "ipython",
    "version": 3
   },
   "file_extension": ".py",
   "mimetype": "text/x-python",
   "name": "python",
   "nbconvert_exporter": "python",
   "pygments_lexer": "ipython3",
   "version": "3.6.4"
  }
 },
 "nbformat": 4,
 "nbformat_minor": 2
}
