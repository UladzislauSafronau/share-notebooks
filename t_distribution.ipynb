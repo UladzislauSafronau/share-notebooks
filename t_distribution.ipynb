{
 "cells": [
  {
   "cell_type": "code",
   "execution_count": 195,
   "metadata": {},
   "outputs": [],
   "source": [
    "import numpy as np\n",
    "import matplotlib.pyplot as plt\n",
    "%matplotlib inline"
   ]
  },
  {
   "cell_type": "code",
   "execution_count": 196,
   "metadata": {},
   "outputs": [],
   "source": [
    "def get_mean_samples(general, sample_size, count):\n",
    "    t_dist = np.zeros(count)\n",
    "    for i in range(count):\n",
    "        rand_indexes = np.random.randint(0,high=general.size,size=sample_size)\n",
    "        t_dist[i] = general[rand_indexes].mean()\n",
    "    return t_dist"
   ]
  },
  {
   "cell_type": "code",
   "execution_count": 197,
   "metadata": {},
   "outputs": [
    {
     "data": {
      "image/png": "[encoded data removed]",
      "text/plain": [
       "<matplotlib.figure.Figure at 0x7fcb755c2a90>"
      ]
     },
     "metadata": {},
     "output_type": "display_data"
    }
   ],
   "source": [
    "from scipy import stats\n",
    "\n",
    "sample_size = 4\n",
    "\n",
    "general = np.random.randn(100_000_000, 1)\n",
    "mean_samples = get_mean_samples(general, sample_size, 100000)\n",
    "\n",
    "std = mean_samples.std()\n",
    "plt.hist(stats.norm.rvs(general.mean(), std ,1000000), \n",
    "         bins=1000, density=True, alpha=0.5,color=\"blue\")\n",
    "plt.hist(mean_samples, bins=1000, density=True, alpha=0.5, color=\"green\")\n",
    "plt.show()"
   ]
  },
  {
   "cell_type": "code",
   "execution_count": 198,
   "metadata": {},
   "outputs": [
    {
     "data": {
      "text/plain": [
       "KstestResult(statistic=0.18721306975126067, pvalue=0.0)"
      ]
     },
     "execution_count": 198,
     "metadata": {},
     "output_type": "execute_result"
    }
   ],
   "source": [
    "stats.kstest(mean_samples, \"t\", args=(sample_size-1,))"
   ]
  }
 ],
 "metadata": {
  "kernelspec": {
   "display_name": "Python 3",
   "language": "python",
   "name": "python3"
  },
  "language_info": {
   "codemirror_mode": {
    "name": "ipython",
    "version": 3
   },
   "file_extension": ".py",
   "mimetype": "text/x-python",
   "name": "python",
   "nbconvert_exporter": "python",
   "pygments_lexer": "ipython3",
   "version": "3.6.4"
  }
 },
 "nbformat": 4,
 "nbformat_minor": 2
}
