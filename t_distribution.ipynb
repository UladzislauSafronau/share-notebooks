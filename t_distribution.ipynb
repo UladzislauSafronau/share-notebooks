{
 "cells": [
  {
   "cell_type": "code",
   "execution_count": 3,
   "metadata": {},
   "outputs": [],
   "source": [
    "import numpy as np\n",
    "import matplotlib.pyplot as plt\n",
    "%matplotlib inline"
   ]
  },
  {
   "cell_type": "code",
   "execution_count": 94,
   "metadata": {},
   "outputs": [],
   "source": [
    "def get_t_dist(general, sample_size, count):\n",
    "    t_dist = np.zeros(count)\n",
    "    mean = general.mean()\n",
    "    for i in range(count):\n",
    "        rand_indexes = np.random.randint(0, high=general.size, size=sample_size)\n",
    "        sample = general[rand_indexes]\n",
    "        t_dist[i] = (sample.mean() - mean)/(sample.std()/sample.size**(1/2))\n",
    "    return t_dist"
   ]
  },
  {
   "cell_type": "code",
   "execution_count": null,
   "metadata": {},
   "outputs": [],
   "source": [
    "from scipy import stats\n",
    "\n",
    "sample_size = 20\n",
    "\n",
    "general = np.random.randn(100_000, 1)\n",
    "t_dist = get_t_dist(general, sample_size, 100000)\n",
    "plt.hist(t_dist, bins=30, density=True, alpha=0.5, color=\"green\")\n",
    "plt.show()"
   ]
  },
  {
   "cell_type": "code",
   "execution_count": 101,
   "metadata": {},
   "outputs": [
    {
     "data": {
      "text/plain": [
       "KstestResult(statistic=0.0090954350997834998, pvalue=0.3796893140440657)"
      ]
     },
     "execution_count": 101,
     "metadata": {},
     "output_type": "execute_result"
    }
   ],
   "source": [
    "stats.kstest(t_dist, \"t\", args=(sample_size-1,))"
   ]
  }
 ],
 "metadata": {
  "kernelspec": {
   "display_name": "Python 3",
   "language": "python",
   "name": "python3"
  },
  "language_info": {
   "codemirror_mode": {
    "name": "ipython",
    "version": 3
   },
   "file_extension": ".py",
   "mimetype": "text/x-python",
   "name": "python",
   "nbconvert_exporter": "python",
   "pygments_lexer": "ipython3",
   "version": "3.6.3"
  }
 },
 "nbformat": 4,
 "nbformat_minor": 2
}
